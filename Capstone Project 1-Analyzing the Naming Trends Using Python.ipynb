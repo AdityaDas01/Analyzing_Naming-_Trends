{
 "cells": [
  {
   "cell_type": "code",
   "execution_count": 1,
   "id": "6c86f2e4",
   "metadata": {},
   "outputs": [],
   "source": [
    "# Python Project - 1 \n",
    "# Project: Analyzing the naming trends using Python \n",
    "# Industry: General\n",
    "# Problem Statement: \n",
    "# The dataset is in Zipped format, we have to extract the dataset in the program, visualize the number of male and female babies born in a particular year, and find out popular baby names. \n",
    "# Description: This project not only focusses on implementing data manipulation and data visualization using Pandas library, but also tests your ability to deal with real word problem statements. \n",
    "# Dataset: Popular baby names data provided by Social Security Administration (SSA) of United States\n",
    "# How to download the dataset: \n",
    "# •\tGo to https://www.ssa.gov/oact/babynames/limits.html\n",
    "# •\tClick on ‘National data’\n",
    "# •\tGet the zipped file\n",
    "# Here’s what the zipped folder looks like, \n",
    " \n",
    "# Hints: \n",
    "# •\tFirst, use Pandas, zipfile, and BytesIO library to extract the data. Find out a way to extract only files that consists useful data. \n",
    "# •\tHint: pd.read_csv(BytesIO(z.read(file_name)), encoding='utf-8', engine='python', header=None)\n",
    "# •\tThen, visualize the number of male and female babies born in a particular year with the help of pandas.DataFrame.plot, then Analyse baby names by sorting out all birth counts. \n",
    "# •\tThen, analyse baby names by sorting out top 100 birth counts and group them by names to find out popular baby names"
   ]
  },
  {
   "cell_type": "code",
   "execution_count": 2,
   "id": "319a24be",
   "metadata": {},
   "outputs": [],
   "source": [
    "# Import Libraries\n",
    "import pandas as pd\n",
    "from io import BytesIO\n",
    "from zipfile import ZipFile as z\n",
    "import matplotlib.pyplot as plt\n",
    "%matplotlib inline"
   ]
  },
  {
   "cell_type": "code",
   "execution_count": 10,
   "id": "c1fbf6bf",
   "metadata": {},
   "outputs": [
    {
     "data": {
      "text/html": [
       "<div>\n",
       "<style scoped>\n",
       "    .dataframe tbody tr th:only-of-type {\n",
       "        vertical-align: middle;\n",
       "    }\n",
       "\n",
       "    .dataframe tbody tr th {\n",
       "        vertical-align: top;\n",
       "    }\n",
       "\n",
       "    .dataframe thead th {\n",
       "        text-align: right;\n",
       "    }\n",
       "</style>\n",
       "<table border=\"1\" class=\"dataframe\">\n",
       "  <thead>\n",
       "    <tr style=\"text-align: right;\">\n",
       "      <th></th>\n",
       "      <th>name</th>\n",
       "      <th>gender</th>\n",
       "      <th>birthcounts</th>\n",
       "    </tr>\n",
       "  </thead>\n",
       "  <tbody>\n",
       "    <tr>\n",
       "      <th>0</th>\n",
       "      <td>Mary</td>\n",
       "      <td>F</td>\n",
       "      <td>7065</td>\n",
       "    </tr>\n",
       "    <tr>\n",
       "      <th>1</th>\n",
       "      <td>Anna</td>\n",
       "      <td>F</td>\n",
       "      <td>2604</td>\n",
       "    </tr>\n",
       "    <tr>\n",
       "      <th>2</th>\n",
       "      <td>Emma</td>\n",
       "      <td>F</td>\n",
       "      <td>2003</td>\n",
       "    </tr>\n",
       "    <tr>\n",
       "      <th>3</th>\n",
       "      <td>Elizabeth</td>\n",
       "      <td>F</td>\n",
       "      <td>1939</td>\n",
       "    </tr>\n",
       "    <tr>\n",
       "      <th>4</th>\n",
       "      <td>Minnie</td>\n",
       "      <td>F</td>\n",
       "      <td>1746</td>\n",
       "    </tr>\n",
       "  </tbody>\n",
       "</table>\n",
       "</div>"
      ],
      "text/plain": [
       "        name gender  birthcounts\n",
       "0       Mary      F         7065\n",
       "1       Anna      F         2604\n",
       "2       Emma      F         2003\n",
       "3  Elizabeth      F         1939\n",
       "4     Minnie      F         1746"
      ]
     },
     "execution_count": 10,
     "metadata": {},
     "output_type": "execute_result"
    }
   ],
   "source": [
    "# Read the Data from 'yob1880.txt' file-> and glance of starting 5 rows\n",
    "df = pd.read_csv(r'C:\\Users\\ADITYA\\Desktop\\Data Science\\New folder\\Names\\yob1880.txt',names = ['name','gender','birthcounts'])\n",
    "df.head()"
   ]
  },
  {
   "cell_type": "code",
   "execution_count": 11,
   "id": "d9889786",
   "metadata": {},
   "outputs": [
    {
     "data": {
      "text/plain": [
       "2000"
      ]
     },
     "execution_count": 11,
     "metadata": {},
     "output_type": "execute_result"
    }
   ],
   "source": [
    "#Find the length of Data\n",
    "len(df)"
   ]
  },
  {
   "cell_type": "code",
   "execution_count": 12,
   "id": "877e0f5e",
   "metadata": {},
   "outputs": [
    {
     "data": {
      "text/plain": [
       "gender\n",
       "F     90994\n",
       "M    110490\n",
       "Name: birthcounts, dtype: int64"
      ]
     },
     "execution_count": 12,
     "metadata": {},
     "output_type": "execute_result"
    }
   ],
   "source": [
    "# Glance the total male and female count\n",
    "df.groupby('gender').birthcounts.sum()"
   ]
  },
  {
   "cell_type": "code",
   "execution_count": 13,
   "id": "e4eb5d7c",
   "metadata": {},
   "outputs": [],
   "source": [
    "# Take the range of year between starting to end according to given file\n",
    "years = range(1880, 1887)"
   ]
  },
  {
   "cell_type": "code",
   "execution_count": 14,
   "id": "21e38267",
   "metadata": {},
   "outputs": [],
   "source": [
    "# Initialize empty list\n",
    "pieces = []"
   ]
  },
  {
   "cell_type": "code",
   "execution_count": 15,
   "id": "7a69f98a",
   "metadata": {},
   "outputs": [],
   "source": [
    "# Assign the name of Columns\n",
    "columns = ['name','gender','birthcount']"
   ]
  },
  {
   "cell_type": "code",
   "execution_count": 19,
   "id": "5151a2da",
   "metadata": {},
   "outputs": [],
   "source": [
    "#Concatenate the all text files into one combine file\n",
    "for year in years:\n",
    "    path = r'C:\\Users\\ADITYA\\Desktop\\Data Science\\New folder\\Names\\yob{}.txt'.format(year)\n",
    "    columns = ['name','gender','birthcount']\n",
    "    for year in years:\n",
    "        path = r'C:\\Users\\ADITYA\\Desktop\\Data Science\\New folder\\Names\\yob{}.txt'.format(year)\n",
    "        df = pd.read_csv(path, names=columns)\n",
    "        df['year']=year\n",
    "        pieces.append(df)\n",
    "        allData = pd.concat(pieces, ignore_index=True)"
   ]
  },
  {
   "cell_type": "code",
   "execution_count": 20,
   "id": "9d220bbd",
   "metadata": {},
   "outputs": [
    {
     "data": {
      "text/plain": [
       "105896"
      ]
     },
     "execution_count": 20,
     "metadata": {},
     "output_type": "execute_result"
    }
   ],
   "source": [
    "# Verify the length of combine Data\n",
    "len(allData)"
   ]
  },
  {
   "cell_type": "code",
   "execution_count": 21,
   "id": "d0e8ed60",
   "metadata": {},
   "outputs": [
    {
     "data": {
      "text/html": [
       "<div>\n",
       "<style scoped>\n",
       "    .dataframe tbody tr th:only-of-type {\n",
       "        vertical-align: middle;\n",
       "    }\n",
       "\n",
       "    .dataframe tbody tr th {\n",
       "        vertical-align: top;\n",
       "    }\n",
       "\n",
       "    .dataframe thead th {\n",
       "        text-align: right;\n",
       "    }\n",
       "</style>\n",
       "<table border=\"1\" class=\"dataframe\">\n",
       "  <thead>\n",
       "    <tr style=\"text-align: right;\">\n",
       "      <th></th>\n",
       "      <th>name</th>\n",
       "      <th>gender</th>\n",
       "      <th>birthcount</th>\n",
       "      <th>year</th>\n",
       "    </tr>\n",
       "  </thead>\n",
       "  <tbody>\n",
       "    <tr>\n",
       "      <th>0</th>\n",
       "      <td>Mary</td>\n",
       "      <td>F</td>\n",
       "      <td>7065</td>\n",
       "      <td>1880</td>\n",
       "    </tr>\n",
       "    <tr>\n",
       "      <th>1</th>\n",
       "      <td>Anna</td>\n",
       "      <td>F</td>\n",
       "      <td>2604</td>\n",
       "      <td>1880</td>\n",
       "    </tr>\n",
       "    <tr>\n",
       "      <th>2</th>\n",
       "      <td>Emma</td>\n",
       "      <td>F</td>\n",
       "      <td>2003</td>\n",
       "      <td>1880</td>\n",
       "    </tr>\n",
       "    <tr>\n",
       "      <th>3</th>\n",
       "      <td>Elizabeth</td>\n",
       "      <td>F</td>\n",
       "      <td>1939</td>\n",
       "      <td>1880</td>\n",
       "    </tr>\n",
       "    <tr>\n",
       "      <th>4</th>\n",
       "      <td>Minnie</td>\n",
       "      <td>F</td>\n",
       "      <td>1746</td>\n",
       "      <td>1880</td>\n",
       "    </tr>\n",
       "  </tbody>\n",
       "</table>\n",
       "</div>"
      ],
      "text/plain": [
       "        name gender  birthcount  year\n",
       "0       Mary      F        7065  1880\n",
       "1       Anna      F        2604  1880\n",
       "2       Emma      F        2003  1880\n",
       "3  Elizabeth      F        1939  1880\n",
       "4     Minnie      F        1746  1880"
      ]
     },
     "execution_count": 21,
     "metadata": {},
     "output_type": "execute_result"
    }
   ],
   "source": [
    "# Take the glance of combine data \n",
    "allData.head()"
   ]
  },
  {
   "cell_type": "code",
   "execution_count": 22,
   "id": "82117be4",
   "metadata": {},
   "outputs": [],
   "source": [
    "# Find the total birth in all the years \n",
    "totalbirths = allData.pivot_table('birthcount', index=['year'], columns=['gender'], aggfunc = sum)"
   ]
  },
  {
   "cell_type": "code",
   "execution_count": 23,
   "id": "3f40da8e",
   "metadata": {},
   "outputs": [
    {
     "data": {
      "text/html": [
       "<div>\n",
       "<style scoped>\n",
       "    .dataframe tbody tr th:only-of-type {\n",
       "        vertical-align: middle;\n",
       "    }\n",
       "\n",
       "    .dataframe tbody tr th {\n",
       "        vertical-align: top;\n",
       "    }\n",
       "\n",
       "    .dataframe thead th {\n",
       "        text-align: right;\n",
       "    }\n",
       "</style>\n",
       "<table border=\"1\" class=\"dataframe\">\n",
       "  <thead>\n",
       "    <tr style=\"text-align: right;\">\n",
       "      <th>gender</th>\n",
       "      <th>F</th>\n",
       "      <th>M</th>\n",
       "    </tr>\n",
       "    <tr>\n",
       "      <th>year</th>\n",
       "      <th></th>\n",
       "      <th></th>\n",
       "    </tr>\n",
       "  </thead>\n",
       "  <tbody>\n",
       "    <tr>\n",
       "      <th>1880</th>\n",
       "      <td>636958</td>\n",
       "      <td>773430</td>\n",
       "    </tr>\n",
       "    <tr>\n",
       "      <th>1881</th>\n",
       "      <td>643671</td>\n",
       "      <td>705159</td>\n",
       "    </tr>\n",
       "    <tr>\n",
       "      <th>1882</th>\n",
       "      <td>754929</td>\n",
       "      <td>795802</td>\n",
       "    </tr>\n",
       "    <tr>\n",
       "      <th>1883</th>\n",
       "      <td>786233</td>\n",
       "      <td>732375</td>\n",
       "    </tr>\n",
       "    <tr>\n",
       "      <th>1884</th>\n",
       "      <td>903133</td>\n",
       "      <td>801094</td>\n",
       "    </tr>\n",
       "  </tbody>\n",
       "</table>\n",
       "</div>"
      ],
      "text/plain": [
       "gender       F       M\n",
       "year                  \n",
       "1880    636958  773430\n",
       "1881    643671  705159\n",
       "1882    754929  795802\n",
       "1883    786233  732375\n",
       "1884    903133  801094"
      ]
     },
     "execution_count": 23,
     "metadata": {},
     "output_type": "execute_result"
    }
   ],
   "source": [
    "# Take a glance of  birth in all years according to Male and Female gender wise\n",
    "totalbirths.head()"
   ]
  },
  {
   "cell_type": "code",
   "execution_count": 24,
   "id": "a4719b59",
   "metadata": {},
   "outputs": [
    {
     "data": {
      "image/png": "[encoded data removed]",
      "text/plain": [
       "<Figure size 432x288 with 1 Axes>"
      ]
     },
     "metadata": {
      "needs_background": "light"
     },
     "output_type": "display_data"
    }
   ],
   "source": [
    "# Plot the bar graph for above glance\n",
    "totalbirths.plot(kind='bar')\n",
    "plt.show()"
   ]
  },
  {
   "cell_type": "code",
   "execution_count": 25,
   "id": "f71c042e",
   "metadata": {},
   "outputs": [
    {
     "data": {
      "text/html": [
       "<div>\n",
       "<style scoped>\n",
       "    .dataframe tbody tr th:only-of-type {\n",
       "        vertical-align: middle;\n",
       "    }\n",
       "\n",
       "    .dataframe tbody tr th {\n",
       "        vertical-align: top;\n",
       "    }\n",
       "\n",
       "    .dataframe thead tr th {\n",
       "        text-align: left;\n",
       "    }\n",
       "\n",
       "    .dataframe thead tr:last-of-type th {\n",
       "        text-align: right;\n",
       "    }\n",
       "</style>\n",
       "<table border=\"1\" class=\"dataframe\">\n",
       "  <thead>\n",
       "    <tr>\n",
       "      <th></th>\n",
       "      <th colspan=\"2\" halign=\"left\">birthcount</th>\n",
       "    </tr>\n",
       "    <tr>\n",
       "      <th>gender</th>\n",
       "      <th>F</th>\n",
       "      <th>M</th>\n",
       "    </tr>\n",
       "    <tr>\n",
       "      <th>year</th>\n",
       "      <th></th>\n",
       "      <th></th>\n",
       "    </tr>\n",
       "  </thead>\n",
       "  <tbody>\n",
       "    <tr>\n",
       "      <th>1880</th>\n",
       "      <td>636958</td>\n",
       "      <td>773430</td>\n",
       "    </tr>\n",
       "    <tr>\n",
       "      <th>1881</th>\n",
       "      <td>643671</td>\n",
       "      <td>705159</td>\n",
       "    </tr>\n",
       "    <tr>\n",
       "      <th>1882</th>\n",
       "      <td>754929</td>\n",
       "      <td>795802</td>\n",
       "    </tr>\n",
       "    <tr>\n",
       "      <th>1883</th>\n",
       "      <td>786233</td>\n",
       "      <td>732375</td>\n",
       "    </tr>\n",
       "    <tr>\n",
       "      <th>1884</th>\n",
       "      <td>903133</td>\n",
       "      <td>801094</td>\n",
       "    </tr>\n",
       "  </tbody>\n",
       "</table>\n",
       "</div>"
      ],
      "text/plain": [
       "       birthcount        \n",
       "gender          F       M\n",
       "year                     \n",
       "1880       636958  773430\n",
       "1881       643671  705159\n",
       "1882       754929  795802\n",
       "1883       786233  732375\n",
       "1884       903133  801094"
      ]
     },
     "execution_count": 25,
     "metadata": {},
     "output_type": "execute_result"
    }
   ],
   "source": [
    "#birthcount according to Female and Male year wise\n",
    "allData.groupby(['year','gender']).sum().unstack('gender').head()"
   ]
  },
  {
   "cell_type": "code",
   "execution_count": 26,
   "id": "02250ede",
   "metadata": {},
   "outputs": [],
   "source": [
    "# •\tThen, analyse baby names by sorting out top 100 birth counts and group them by names to find out popular baby names\n",
    "# calculate ratio\n",
    "def add_prop(group):\n",
    "    births = group.birthcount.astype(float)\n",
    "    group['prop'] = births/births.sum()  # add column prop\n",
    "    return group"
   ]
  },
  {
   "cell_type": "code",
   "execution_count": 27,
   "id": "848e2bb9",
   "metadata": {},
   "outputs": [],
   "source": [
    "names = allData.groupby(['year', 'gender']).apply(add_prop)"
   ]
  },
  {
   "cell_type": "code",
   "execution_count": 28,
   "id": "c002a8a3",
   "metadata": {},
   "outputs": [
    {
     "data": {
      "text/html": [
       "<div>\n",
       "<style scoped>\n",
       "    .dataframe tbody tr th:only-of-type {\n",
       "        vertical-align: middle;\n",
       "    }\n",
       "\n",
       "    .dataframe tbody tr th {\n",
       "        vertical-align: top;\n",
       "    }\n",
       "\n",
       "    .dataframe thead th {\n",
       "        text-align: right;\n",
       "    }\n",
       "</style>\n",
       "<table border=\"1\" class=\"dataframe\">\n",
       "  <thead>\n",
       "    <tr style=\"text-align: right;\">\n",
       "      <th></th>\n",
       "      <th>name</th>\n",
       "      <th>gender</th>\n",
       "      <th>birthcount</th>\n",
       "      <th>year</th>\n",
       "      <th>prop</th>\n",
       "    </tr>\n",
       "  </thead>\n",
       "  <tbody>\n",
       "    <tr>\n",
       "      <th>0</th>\n",
       "      <td>Mary</td>\n",
       "      <td>F</td>\n",
       "      <td>7065</td>\n",
       "      <td>1880</td>\n",
       "      <td>0.011092</td>\n",
       "    </tr>\n",
       "    <tr>\n",
       "      <th>1</th>\n",
       "      <td>Anna</td>\n",
       "      <td>F</td>\n",
       "      <td>2604</td>\n",
       "      <td>1880</td>\n",
       "      <td>0.004088</td>\n",
       "    </tr>\n",
       "    <tr>\n",
       "      <th>2</th>\n",
       "      <td>Emma</td>\n",
       "      <td>F</td>\n",
       "      <td>2003</td>\n",
       "      <td>1880</td>\n",
       "      <td>0.003145</td>\n",
       "    </tr>\n",
       "    <tr>\n",
       "      <th>3</th>\n",
       "      <td>Elizabeth</td>\n",
       "      <td>F</td>\n",
       "      <td>1939</td>\n",
       "      <td>1880</td>\n",
       "      <td>0.003044</td>\n",
       "    </tr>\n",
       "    <tr>\n",
       "      <th>4</th>\n",
       "      <td>Minnie</td>\n",
       "      <td>F</td>\n",
       "      <td>1746</td>\n",
       "      <td>1880</td>\n",
       "      <td>0.002741</td>\n",
       "    </tr>\n",
       "  </tbody>\n",
       "</table>\n",
       "</div>"
      ],
      "text/plain": [
       "        name gender  birthcount  year      prop\n",
       "0       Mary      F        7065  1880  0.011092\n",
       "1       Anna      F        2604  1880  0.004088\n",
       "2       Emma      F        2003  1880  0.003145\n",
       "3  Elizabeth      F        1939  1880  0.003044\n",
       "4     Minnie      F        1746  1880  0.002741"
      ]
     },
     "execution_count": 28,
     "metadata": {},
     "output_type": "execute_result"
    }
   ],
   "source": [
    "names.head()"
   ]
  },
  {
   "cell_type": "code",
   "execution_count": null,
   "id": "4165405a",
   "metadata": {},
   "outputs": [],
   "source": []
  }
 ],
 "metadata": {
  "kernelspec": {
   "display_name": "Python 3 (ipykernel)",
   "language": "python",
   "name": "python3"
  },
  "language_info": {
   "codemirror_mode": {
    "name": "ipython",
    "version": 3
   },
   "file_extension": ".py",
   "mimetype": "text/x-python",
   "name": "python",
   "nbconvert_exporter": "python",
   "pygments_lexer": "ipython3",
   "version": "3.9.7"
  }
 },
 "nbformat": 4,
 "nbformat_minor": 5
}
